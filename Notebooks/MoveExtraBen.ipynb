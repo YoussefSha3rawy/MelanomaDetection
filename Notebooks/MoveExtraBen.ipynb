{
 "cells": [
  {
   "cell_type": "code",
   "execution_count": 3,
   "id": "6ccf6fe0",
   "metadata": {},
   "outputs": [],
   "source": [
    "import shutil\n",
    "import random\n",
    "import os\n",
    "from imutils import paths\n",
    "\n",
    "BENIMGS=sorted(paths.list_images(\"C:/Users/Azza/Desktop/Youssef/ISIC 2019 Dataset/Training/0\"))\n",
    "MELIMGS=sorted(paths.list_images(\"C:/Users/Azza/Desktop/Youssef/ISIC 2019 Dataset/Training/1\"))\n",
    "\n",
    "random.seed(43)\n",
    "\n",
    "random.shuffle(BENIMGS)\n",
    "for img in BENIMGS[:len(MELIMGS)]:\n",
    "    shutil.copy(img,\"C:/Users/Azza/Desktop/Youssef/ISIC 2019 Dataset/Balanced/0\")\n",
    "for img in MELIMGS:\n",
    "    shutil.copy(img,\"C:/Users/Azza/Desktop/Youssef/ISIC 2019 Dataset/Balanced/1\")"
   ]
  },
  {
   "cell_type": "code",
   "execution_count": 11,
   "id": "784ccd58",
   "metadata": {},
   "outputs": [
    {
     "data": {
      "text/plain": [
       "7234"
      ]
     },
     "execution_count": 11,
     "metadata": {},
     "output_type": "execute_result"
    }
   ],
   "source": [
    "len(BENIMGS)"
   ]
  },
  {
   "cell_type": "code",
   "execution_count": 7,
   "id": "692f70d5",
   "metadata": {},
   "outputs": [],
   "source": [
    "for img in MELIMGS:\n",
    "    if img.count(\"augment\")>0:\n",
    "        shutil.move(img,\"C:/Users/Azza/Desktop/Youssef/ISIC 2019 Dataset/TrainingMelAug\")"
   ]
  }
 ],
 "metadata": {
  "kernelspec": {
   "display_name": "Python 3",
   "language": "python",
   "name": "python3"
  },
  "language_info": {
   "codemirror_mode": {
    "name": "ipython",
    "version": 3
   },
   "file_extension": ".py",
   "mimetype": "text/x-python",
   "name": "python",
   "nbconvert_exporter": "python",
   "pygments_lexer": "ipython3",
   "version": "3.8.10"
  }
 },
 "nbformat": 4,
 "nbformat_minor": 5
}
