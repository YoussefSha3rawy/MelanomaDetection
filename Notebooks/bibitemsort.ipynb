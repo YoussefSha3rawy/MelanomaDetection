{
 "cells": [
  {
   "cell_type": "code",
   "execution_count": 36,
   "id": "9c30df71-17e4-42bd-bb33-b8363c3a9a3c",
   "metadata": {},
   "outputs": [],
   "source": [
    "import pandas as pd\n",
    "\n",
    "data = \"\\bibitem{acosta2021melanoma}Acosta, M., Tovar, L., Garcia-Zapirain, M. \\& Percybrooks, W. Melanoma diagnosis using deep learning techniques on dermatoscopic images. {\\em BMC Medical Imaging}. \\textbf{21}, 1-11 (2021)\\bibitem{venkatesh2018deep}Venkatesh, G., Naresh, Y., Little, S. \\& O’Connor, N. A deep residual architecture for skin lesion segmentation. {\\em OR 2.0 Context-Aware Operating Theaters, Computer Assisted Robotic Endoscopy, Clinical Image-Based Procedures, And Skin Image Analysis}. pp. 277-284 (2018)\\bibitem{ronneberger2015u}Ronneberger, O., Fischer, P. \\& Brox, T. U-net: Convolutional networks for biomedical image segmentation. {\\em International Conference On Medical Image Computing And Computer-assisted Intervention}. pp. 234-241 (2015)\\bibitem{esteva2017dermatologist}Esteva, A., Kuprel, B., Novoa, R., Ko, J., Swetter, S., Blau, H. \\& Thrun, S. Dermatologist-level classification of skin cancer with deep neural networks. {\\em Nature}. \\textbf{542}, 115-118 (2017)\\bibitem{adegun2019deep}Adegun, A. \\& Viriri, S. Deep learning-based system for automatic melanoma detection. {\\em IEEE Access}. \\textbf{8} pp. 7160-7172 (2019)\\bibitem{7590963}Nasr-Esfahani, E., Samavi, S., Karimi, N., Soroushmehr, S., Jafari, M., Ward, K. \\& Najarian, K. Melanoma detection by analysis of clinical images using convolutional neural network. {\\em 2016 38th Annual International Conference Of The IEEE Engineering In Medicine And Biology Society (EMBC)}. pp. 1373-1376 (2016)\\bibitem{yu2018acral}Yu, C., Yang, S., Kim, W., Jung, J., Chung, K., Lee, S. \\& Oh, B. Acral melanoma detection using a convolutional neural network for dermoscopy images. {\\em PloS One}. \\textbf{13}, e0193321 (2018)\\bibitem{society2016cancer}Society, A. Cancer facts & figures. {\\em American Cancer Society}. (2016)\\bibitem{tizek2019skin}Tizek, L., Schielein, M., Seifert, F., Biedermann, T., Böhner, A. \\& Zink, A. Skin diseases are more common than we think: screening results of an unreferred population at the Munich Oktoberfest. {\\em Journal Of The European Academy Of Dermatology And Venereology}. \\textbf{33}, 1421-1428 (2019)\\bibitem{stern2010prevalence}Stern, R. Prevalence of a history of skin cancer in 2007: results of an incidence-based model. {\\em Archives Of Dermatology}. \\textbf{146}, 279-282 (2010)\\bibitem{zhang2017melanoma}Zhang, X. Melanoma segmentation based on deep learning. {\\em Computer Assisted Surgery}. \\textbf{22}, 267-277 (2017)\\bibitem{green1994computer}Green, A., Martin, N., Pfitzner, J., O’Rourke, M. \\& Knight, N. Computer image analysis in the diagnosis of melanoma. {\\em Journal Of The American Academy Of Dermatology}. \\textbf{31}, 958-964 (1994)\\bibitem{attia2017skin}Attia, M., Hossny, M., Nahavandi, S. \\& Yazdabadi, A. Skin melanoma segmentation using recurrent and convolutional neural networks. {\\em 2017 IEEE 14th International Symposium On Biomedical Imaging (ISBI 2017)}. pp. 292-296 (2017)\\bibitem{sagar2016color}Sagar, C. \\& Saini, L. Color channel based segmentation of skin lesion from clinical images for the detection of melanoma. {\\em 2016 IEEE 1st International Conference On Power Electronics, Intelligent Control And Energy Systems (ICPEICES)}. pp. 1-5 (2016)\\bibitem{emre2008border}Emre Celebi, M., Kingravi, H., Iyatomi, H., Alp Aslandogan, Y., Stoecker, W., Moss, R., Malters, J., Grichnik, J., Marghoob, A., Rabinovitz, H. \\& Others Border detection in dermoscopy images using statistical region merging. {\\em Skin Research And Technology}. \\textbf{14}, 347-353 (2008)\\bibitem{8233570}Thao, L. \\& Quang, N. Automatic skin lesion analysis towards melanoma detection. {\\em 2017 21st Asia Pacific Symposium On Intelligent And Evolutionary Systems (IES)}. pp. 106-111 (2017)\\bibitem{erkol2005automatic}Erkol, B., Moss, R., Joe Stanley, R., Stoecker, W. \\& Hvatum, E. Automatic lesion boundary detection in dermoscopy images using gradient vector flow snakes. {\\em Skin Research And Technology}. \\textbf{11}, 17-26 (2005)\\bibitem{sym10080347}Aljanabi, M., Özok, Y., Rahebi, J. \\& Abdullah, A. Skin Lesion Segmentation Method for Dermoscopy Images Using Artificial Bee Colony Algorithm. {\\em Symmetry}. \\textbf{10} (2018), https://www.mdpi.com/2073-8994/10/8/347\\bibitem{918473}Ganster, H., Pinz, P., Rohrer, R., Wildling, E., Binder, M. \\& Kittler, H. Automated melanoma recognition. {\\em IEEE Transactions On Medical Imaging}. \\textbf{20}, 233-239 (2001)\\bibitem{al2018skin}Al-Masni, M., Al-Antari, M., Choi, M., Han, S. \\& Kim, T. Skin lesion segmentation in dermoscopy images via deep full resolution convolutional networks. {\\em Computer Methods And Programs In Biomedicine}. \\textbf{162} pp. 221-231 (2018)\\bibitem{mollersen2010unsupervised}Møllersen, K., Kirchesch, H., Schopf, T. \\& Godtliebsen, F. Unsupervised segmentation for digital dermoscopic images. {\\em Skin Research And Technology}. \\textbf{16}, 401-407 (2010)\\bibitem{6612682}Peruch, F., Bogo, F., Bonazza, M., Cappelleri, V. \\& Peserico, E. Simpler, Faster, More Accurate Melanocytic Lesion Segmentation Through MEDS. {\\em IEEE Transactions On Biomedical Engineering}. \\textbf{61}, 557-565 (2014)\\bibitem{melli2006comparison}Melli, R., Grana, C. \\& Cucchiara, R. Comparison of color clustering algorithms for segmentation of dermatological images. {\\em Medical Imaging 2006: Image Processing}. \\textbf{6144} pp. 61443S (2006)\\bibitem{cavalcanti2013two}Cavalcanti, P., Scharcanski, J. \\& Baranoski, G. A two-stage approach for discriminating melanocytic skin lesions using standard cameras. {\\em Expert Systems With Applications}. \\textbf{40}, 4054-4064 (2013)\\bibitem{matterport_maskrcnn_2017}Abdulla, W. Mask R-CNN for object detection and instance segmentation on Keras and TensorFlow. {\\em GitHub Repository}. (2017), https://github.com/matterport/Mask\\_RCNN\\bibitem{resnet}Mahdianpari, M., Salehi, B., Rezaee, M., Mohammadimanesh, F. \\& Zhang, Y. Very Deep Convolutional Neural Networks for Complex Land Cover Mapping Using Multispectral Remote Sensing Imagery. {\\em Remote Sensing}. \\textbf{10} pp. 1119 (2018,7)\\bibitem{xception}Mahdianpari, M., Salehi, B., Rezaee, M., Mohammadimanesh, F. \\& Zhang, Y. Very Deep Convolutional Neural Networks for Complex Land Cover Mapping Using Multispectral Remote Sensing Imagery. {\\em Remote Sensing}. \\textbf{10} pp. 1119 (2018,7)\\bibitem{inception}Mahdianpari, M., Salehi, B., Rezaee, M., Mohammadimanesh, F. \\& Zhang, Y. Very Deep Convolutional Neural Networks for Complex Land Cover Mapping Using Multispectral Remote Sensing Imagery. {\\em Remote Sensing}. \\textbf{10} pp. 1119 (2018,7)\"\n",
    "bibitems = data.split(\"\\bibitem\")[1:]\n",
    "map = dict()\n",
    "for item in bibitems:\n",
    "    i = item.index(\"}\")\n",
    "    key = item[:i+1]\n",
    "    value = item[i+1:]\n",
    "    map[key]=value\n",
    "    \n",
    "    \n",
    "key_list = list(map.keys())\n",
    "value_list = list(map.values())\n",
    "output = sorted(map.values())\n",
    "df = pd.DataFrame()\n",
    "bibitem = \"\"\n",
    "for item in output:\n",
    "    bibitem = \"\\\\bibitem\"+ key_list[value_list.index(item)] +item\n",
    "    df = pd.concat([df,pd.DataFrame({bibitem})])\n",
    "df.to_csv(\"D:/Desktop/data.csv\")"
   ]
  }
 ],
 "metadata": {
  "kernelspec": {
   "display_name": "Python 3 (ipykernel)",
   "language": "python",
   "name": "python3"
  },
  "language_info": {
   "codemirror_mode": {
    "name": "ipython",
    "version": 3
   },
   "file_extension": ".py",
   "mimetype": "text/x-python",
   "name": "python",
   "nbconvert_exporter": "python",
   "pygments_lexer": "ipython3",
   "version": "3.9.6"
  }
 },
 "nbformat": 4,
 "nbformat_minor": 5
}
