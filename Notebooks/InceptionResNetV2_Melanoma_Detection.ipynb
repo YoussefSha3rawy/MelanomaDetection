{
 "cells": [
  {
   "cell_type": "markdown",
   "metadata": {
    "id": "HQVl-aMOl11r"
   },
   "source": [
    "# **Imports**"
   ]
  },
  {
   "cell_type": "code",
   "execution_count": null,
   "metadata": {
    "id": "-8SLiS4CkpMe"
   },
   "outputs": [],
   "source": [
    "import tensorflow as tf\n",
    "from tensorflow import keras\n",
    "from tensorflow.keras import layers\n",
    "from tensorflow.keras.layers import Input, Lambda, Dense, Flatten\n",
    "from tensorflow.keras.models import Model\n",
    "from tensorflow.keras.preprocessing import image\n",
    "from tensorflow.keras.preprocessing.image import ImageDataGenerator\n",
    "from tensorflow.keras.models import Sequential\n",
    "import numpy as np\n",
    "import pandas as pd\n",
    "from imutils import paths\n",
    "import matplotlib.pyplot as plt\n",
    "import shutil\n",
    "import PIL\n",
    "from datetime import datetime\n",
    "from tensorflow.keras.callbacks import ModelCheckpoint, EarlyStopping\n",
    "from tensorflow.keras import optimizers\n",
    "tf.config.list_physical_devices()"
   ]
  },
  {
   "cell_type": "markdown",
   "metadata": {
    "id": "cwb8ElmKxQod"
   },
   "source": [
    "# **Dataset Loading**"
   ]
  },
  {
   "cell_type": "code",
   "execution_count": null,
   "metadata": {
    "colab": {
     "base_uri": "https://localhost:8080/",
     "height": 372
    },
    "id": "vpe2UUetk5pa",
    "outputId": "06f33d80-b338-44ba-e110-745bafbe9415"
   },
   "outputs": [],
   "source": [
    "DATASET_PATH=\"D:/Bachelor/ISIC 2019 Dataset\"\n",
    "TRAINING_PATH=DATASET_PATH+'/Training/Test'\n",
    "VALIDATION_PATH=DATASET_PATH+'/Validation'\n",
    "TEST_PATH=DATASET_PATH+'/Test'\n",
    "GROUND_TRUTH_PATH=DATASET_PATH+'/ISIC_2019_Training_GroundTruth.csv'\n",
    "data = pd.read_csv(GROUND_TRUTH_PATH, index_col='image')\n",
    "\n",
    "BENIGN_TRAINING_PATH = TRAINING_PATH+'/0'\n",
    "MEL_TRAINING_PATH = TRAINING_PATH+'/1'\n",
    "\n",
    "BENIGN_TRAINING_PATHS = sorted(paths.list_images(BENIGN_TRAINING_PATH))\n",
    "print(\"Working with {0} non-melanoma images\".format(len(BENIGN_TRAINING_PATHS)))\n",
    "\n",
    "MEL_TRAINING_PATHS = [f for f in sorted(paths.list_images(MEL_TRAINING_PATH))]\n",
    "print(\"Working with {0} melanoma images\".format(len(MEL_TRAINING_PATHS)))"
   ]
  },
  {
   "cell_type": "markdown",
   "metadata": {
    "id": "BWo_pX2DyZkD"
   },
   "source": [
    "## **Dataset Testing**"
   ]
  },
  {
   "cell_type": "code",
   "execution_count": null,
   "metadata": {
    "colab": {
     "base_uri": "https://localhost:8080/",
     "height": 585
    },
    "id": "_IC8JcxnyepT",
    "outputId": "548954f8-397c-4ff5-925f-5f0400373ffa"
   },
   "outputs": [],
   "source": [
    "plt.figure(figsize=(20, 10))\n",
    "for i in range(5):\n",
    "    ax = plt.subplot(2, 5, i + 1)\n",
    "    plt.imshow(PIL.Image.open(BENIGN_TRAINING_PATHS[i]))\n",
    "    plt.title(\"Non-Melanoma\")\n",
    "    plt.axis(\"off\")\n",
    "    ax = plt.subplot(2, 5, i + 1+5)\n",
    "    plt.imshow(PIL.Image.open(MEL_TRAINING_PATHS[i]))\n",
    "    plt.title(\"Melanoma\")\n",
    "    plt.axis(\"off\")"
   ]
  },
  {
   "cell_type": "markdown",
   "metadata": {
    "id": "iTUeH8XwkQiP"
   },
   "source": [
    "# **InceptionResNetV2**"
   ]
  },
  {
   "cell_type": "markdown",
   "metadata": {
    "id": "bBCn0Ui-rMrn"
   },
   "source": [
    "## **Building the Model**"
   ]
  },
  {
   "cell_type": "code",
   "execution_count": null,
   "metadata": {
    "colab": {
     "base_uri": "https://localhost:8080/"
    },
    "id": "Bzb8_R7JrMrn",
    "outputId": "aa29fd9a-5f9c-4111-da49-44041b1eb45c"
   },
   "outputs": [],
   "source": [
    "size = 299\n",
    "base = tf.keras.applications.InceptionResNetV2(input_shape=(size,size,3), weights='imagenet', include_top=False)\n",
    "\n",
    "base.trainable = False\n",
    "\n",
    "# Create new model on top\n",
    "inputs = keras.Input(shape=(size, size, 3))\n",
    "x=inputs\n",
    "x=base(x,training=False)\n",
    "x = keras.layers.GlobalAveragePooling2D()(x)\n",
    "x = keras.layers.Dropout(0.2)(x)  # Regularize with dropout\n",
    "outputs = keras.layers.Dense(2,activation=\"softmax\")(x)\n",
    "model = Model(inputs=inputs, outputs=outputs)\n",
    "model.summary()\n",
    "\n",
    "model.compile(\n",
    "    optimizer=keras.optimizers.Adam(),\n",
    "    loss=keras.losses.BinaryCrossentropy(from_logits=True),\n",
    "    metrics=[keras.metrics.BinaryAccuracy()],\n",
    ")"
   ]
  },
  {
   "cell_type": "markdown",
   "metadata": {
    "id": "P4H4btF3rMrn"
   },
   "source": [
    "## Building training and validation datasets"
   ]
  },
  {
   "cell_type": "code",
   "execution_count": null,
   "metadata": {
    "colab": {
     "base_uri": "https://localhost:8080/"
    },
    "id": "-HjwXgkgrMrq",
    "outputId": "48d8f7f2-04c7-4150-856a-fb2bb5fe2fd6",
    "tags": []
   },
   "outputs": [],
   "source": [
    "from tensorflow.keras.applications.inception_resnet_v2 import preprocess_input\n",
    "batch=128\n",
    "train_datagen = ImageDataGenerator(\n",
    "    preprocessing_function=preprocess_input,\n",
    "    rotation_range=30,\n",
    "    width_shift_range=0.2,\n",
    "    height_shift_range=0.2,\n",
    "    shear_range=0.2,\n",
    "    horizontal_flip=True,\n",
    "    fill_mode='nearest')\n",
    "\n",
    "validation_datagen = ImageDataGenerator(\n",
    "    preprocessing_function=preprocess_input,\n",
    "    rotation_range=30,\n",
    "    width_shift_range=0.2,\n",
    "    height_shift_range=0.2,\n",
    "    shear_range=0.2,\n",
    "    horizontal_flip=True,\n",
    "    fill_mode='nearest')\n",
    "\n",
    "validation_set = validation_datagen.flow_from_directory(VALIDATION_PATH,(size,size),batch_size=batch,\n",
    "                                                 class_mode = 'categorical')\n",
    "train_set = train_datagen.flow_from_directory(TRAINING_PATH,(size,size),batch_size=batch,\n",
    "                                                 class_mode = 'categorical')"
   ]
  },
  {
   "cell_type": "markdown",
   "metadata": {
    "id": "ts0UDRW0rMrq",
    "tags": []
   },
   "source": [
    "## **Training the top layer**"
   ]
  },
  {
   "cell_type": "code",
   "execution_count": null,
   "metadata": {
    "colab": {
     "base_uri": "https://localhost:8080/"
    },
    "id": "OUfPkkJ_rMrq",
    "outputId": "c5724a6d-2d9a-4f68-c7c5-b92b7117c650",
    "scrolled": true,
    "tags": []
   },
   "outputs": [],
   "source": [
    "callbacks = [ModelCheckpoint(filepath=DATASET_PATH+'/model/InceptionResNetV2Test', \n",
    "                               verbose=1, save_best_only=True)]\n",
    "\n",
    "start = datetime.now()\n",
    "\n",
    "model_history=model.fit(\n",
    "  train_set,\n",
    "  validation_data=validation_set,\n",
    "  epochs=50,\n",
    "    callbacks=callbacks ,verbose=1)\n",
    "\n",
    "\n",
    "duration = datetime.now() - start\n",
    "print(\"Training completed in time: \", duration)"
   ]
  },
  {
   "cell_type": "markdown",
   "metadata": {
    "id": "jQFfhelIrMrq"
   },
   "source": [
    "## **Fine-tuning the entire model**"
   ]
  },
  {
   "cell_type": "code",
   "execution_count": null,
   "metadata": {
    "colab": {
     "base_uri": "https://localhost:8080/"
    },
    "id": "94uAOgr7rMrr",
    "outputId": "81177327-8f52-48b4-e171-6d1bf118d5d0",
    "tags": []
   },
   "outputs": [],
   "source": [
    "model = keras.models.load_model(DATASET_PATH+'/model/InceptionResNetV2')\n",
    "model.layers[1].trainable=True\n",
    "\n",
    "model.compile(\n",
    "    optimizer=keras.optimizers.Adam(1e-5),  \n",
    "    loss='binary_crossentropy',\n",
    "    metrics=[keras.metrics.BinaryAccuracy()],\n",
    ")"
   ]
  },
  {
   "cell_type": "code",
   "execution_count": null,
   "metadata": {
    "colab": {
     "base_uri": "https://localhost:8080/"
    },
    "id": "-HjwXgkgrMrq",
    "outputId": "48d8f7f2-04c7-4150-856a-fb2bb5fe2fd6"
   },
   "outputs": [],
   "source": [
    "from tensorflow.keras.applications.inception_resnet_v2 import preprocess_input\n",
    "batch=6\n",
    "train_datagen = ImageDataGenerator(\n",
    "    preprocessing_function=preprocess_input,\n",
    "    rotation_range=40,\n",
    "    width_shift_range=0.2,\n",
    "    height_shift_range=0.2,\n",
    "    shear_range=0.2,\n",
    "    zoom_range=0.2,\n",
    "    horizontal_flip=True,\n",
    "    fill_mode='nearest')\n",
    "\n",
    "validation_datagen = ImageDataGenerator(\n",
    "    preprocessing_function=preprocess_input,\n",
    "    rotation_range=40,\n",
    "    width_shift_range=0.2,\n",
    "    height_shift_range=0.2,\n",
    "    shear_range=0.2,\n",
    "    zoom_range=0.2,\n",
    "    horizontal_flip=True,\n",
    "    fill_mode='nearest')\n",
    "\n",
    "validation_set = validation_datagen.flow_from_directory(VALIDATION_PATH,(size,size),batch_size=batch,\n",
    "                                                 class_mode = 'categorical')\n",
    "train_set = train_datagen.flow_from_directory(TRAINING_PATH,(size,size),batch_size=batch,\n",
    "                                                 class_mode = 'categorical')"
   ]
  },
  {
   "cell_type": "code",
   "execution_count": null,
   "metadata": {
    "colab": {
     "base_uri": "https://localhost:8080/"
    },
    "id": "94uAOgr7rMrr",
    "outputId": "81177327-8f52-48b4-e171-6d1bf118d5d0",
    "scrolled": true,
    "tags": []
   },
   "outputs": [],
   "source": [
    "model = keras.models.load_model(DATASET_PATH+'/model/InceptionResNetV2')\n",
    "callbacks = [ModelCheckpoint(filepath=DATASET_PATH+'/model/InceptionResNetV2/Fine Tuned/{epoch:02d}.h5', \n",
    "                               verbose=1, save_best_only=True)]\n",
    "\n",
    "start = datetime.now()\n",
    "\n",
    "model_history=model.fit(\n",
    "  train_set,\n",
    "  batch_size=batch,\n",
    "  validation_data=validation_set,\n",
    "  epochs=50,\n",
    "    callbacks=callbacks ,verbose=1)\n",
    "\n",
    "\n",
    "duration = datetime.now() - start\n",
    "print(\"Training completed in time: \", duration)"
   ]
  },
  {
   "cell_type": "markdown",
   "metadata": {
    "id": "5Jgm0cu2rMrr"
   },
   "source": [
    "## **Testing the model**"
   ]
  },
  {
   "cell_type": "code",
   "execution_count": null,
   "metadata": {},
   "outputs": [],
   "source": [
    "test_datagen = ImageDataGenerator(preprocessing_function=preprocess_input)\n",
    "test_set = test_datagen.flow_from_directory(TEST_PATH,(size,size), batch_size=32,shuffle=False,\n",
    "                                                 class_mode = 'categorical')\n",
    "model = keras.models.load_model(DATASET_PATH+'/model/InceptionResNetV2/Fine Tuned)\n",
    "result = model.predict(test_set, verbose=1)\n",
    "res=np.argmax(result, axis=1)\n",
    "names=test_set.filenames\n",
    "tp=0\n",
    "tn=0\n",
    "fp=0\n",
    "fn=0\n",
    "\n",
    "for i in range(len(names)):\n",
    "  gt = names[i][0]\n",
    "  filename = names[i][2:-4]\n",
    "  if res[i]==0:\n",
    "    if gt=='0':\n",
    "      tn+=1\n",
    "    else:\n",
    "      fn+=1\n",
    "  else:\n",
    "    if gt=='0':\n",
    "      fp+=1\n",
    "    else:\n",
    "      tp+=1\n",
    "sensitivity = round(tp*100/(tp+fn),2)\n",
    "specifity = round(tn*100/(tn+fp),2)\n",
    "accuracy = round((tp+tn)*100/(tn+tp+fn+fp),2)\n",
    "balancedAccuracy= round((sensitivity+specifity)/2,2)\n",
    "\n",
    "print(j+15,':')\n",
    "print(tp)\n",
    "print(tn)\n",
    "print(fp)\n",
    "print(fn)\n",
    "print('sensitivity: ',sensitivity,'%')\n",
    "print('specifity: ',specifity,'%')\n",
    "print('accuracy: ',accuracy,'%')\n",
    "print('balanced accuracy',balancedAccuracy, '%')"
   ]
  },
  {
   "cell_type": "markdown",
   "metadata": {
    "id": "3yktVJOYrMrr"
   },
   "source": [
    "## **Model Statistics**"
   ]
  },
  {
   "cell_type": "code",
   "execution_count": null,
   "metadata": {
    "id": "ABeC3vZ0rMrs"
   },
   "outputs": [],
   "source": [
    "_# Plot training & validation loss values\n",
    "plt.plot(model_history.history['binary_accuracy'])\n",
    "plt.plot(model_history.history['val_binary_accuracy'])\n",
    "plt.title('CNN Model accuracy values')\n",
    "plt.ylabel('Accuracy')\n",
    "plt.xlabel('Epoch')\n",
    "plt.legend(['Train', 'Validation'], loc='upper left')\n",
    "plt.show()"
   ]
  }
 ],
 "metadata": {
  "colab": {
   "collapsed_sections": [],
   "name": "Copy of InceptionResNetV2 Melanoma Detection.ipynb",
   "provenance": []
  },
  "kernelspec": {
   "display_name": "Python 3 (ipykernel)",
   "language": "python",
   "name": "python3"
  },
  "language_info": {
   "codemirror_mode": {
    "name": "ipython",
    "version": 3
   },
   "file_extension": ".py",
   "mimetype": "text/x-python",
   "name": "python",
   "nbconvert_exporter": "python",
   "pygments_lexer": "ipython3",
   "version": "3.9.6"
  }
 },
 "nbformat": 4,
 "nbformat_minor": 4
}
